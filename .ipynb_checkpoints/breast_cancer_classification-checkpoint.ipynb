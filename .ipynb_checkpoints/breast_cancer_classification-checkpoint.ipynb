{
 "cells": [
  {
   "cell_type": "code",
   "execution_count": 1,
   "metadata": {},
   "outputs": [],
   "source": [
    "from sklearn.datasets import load_breast_cancer # Dataset (from sklearn)\n",
    "from sklearn.model_selection import train_test_split\n",
    "from sklearn.preprocessing import StandardScaler\n",
    "import matplotlib.pyplot as plt\n",
    "import tensorflow as tf"
   ]
  },
  {
   "cell_type": "code",
   "execution_count": 2,
   "metadata": {},
   "outputs": [],
   "source": [
    "data = load_breast_cancer()"
   ]
  },
  {
   "cell_type": "code",
   "execution_count": 3,
   "metadata": {},
   "outputs": [
    {
     "data": {
      "text/plain": [
       "dict_keys(['data', 'target', 'frame', 'target_names', 'DESCR', 'feature_names', 'filename'])"
      ]
     },
     "execution_count": 3,
     "metadata": {},
     "output_type": "execute_result"
    }
   ],
   "source": [
    "# data type of Bunch\n",
    "data.keys()"
   ]
  },
  {
   "cell_type": "code",
   "execution_count": 4,
   "metadata": {},
   "outputs": [
    {
     "data": {
      "text/plain": [
       "array(['mean radius', 'mean texture', 'mean perimeter', 'mean area',\n",
       "       'mean smoothness', 'mean compactness', 'mean concavity',\n",
       "       'mean concave points', 'mean symmetry', 'mean fractal dimension',\n",
       "       'radius error', 'texture error', 'perimeter error', 'area error',\n",
       "       'smoothness error', 'compactness error', 'concavity error',\n",
       "       'concave points error', 'symmetry error',\n",
       "       'fractal dimension error', 'worst radius', 'worst texture',\n",
       "       'worst perimeter', 'worst area', 'worst smoothness',\n",
       "       'worst compactness', 'worst concavity', 'worst concave points',\n",
       "       'worst symmetry', 'worst fractal dimension'], dtype='<U23')"
      ]
     },
     "execution_count": 4,
     "metadata": {},
     "output_type": "execute_result"
    }
   ],
   "source": [
    "# The input features\n",
    "data.feature_names"
   ]
  },
  {
   "cell_type": "code",
   "execution_count": 5,
   "metadata": {},
   "outputs": [
    {
     "data": {
      "text/plain": [
       "array(['malignant', 'benign'], dtype='<U9')"
      ]
     },
     "execution_count": 5,
     "metadata": {},
     "output_type": "execute_result"
    }
   ],
   "source": [
    "# The target labels\n",
    "data.target_names"
   ]
  },
  {
   "cell_type": "code",
   "execution_count": 6,
   "metadata": {},
   "outputs": [],
   "source": [
    "# split the data into train and test sets\n",
    "X = data.data\n",
    "y = data.target\n",
    "X_train, X_test, y_train, y_test = train_test_split(X, y, test_size=0.33)"
   ]
  },
  {
   "cell_type": "code",
   "execution_count": 7,
   "metadata": {},
   "outputs": [],
   "source": [
    "# Scale the data\n",
    "scaler = StandardScaler()\n",
    "X_train = scaler.fit_transform(X_train)\n",
    "X_test = scaler.transform(X_test)"
   ]
  },
  {
   "cell_type": "code",
   "execution_count": 8,
   "metadata": {},
   "outputs": [],
   "source": [
    "# Build the TF model\n",
    "model = tf.keras.models.Sequential()\n",
    "model.add(tf.keras.layers.Dense(1, input_shape=(X_train.shape[1],), activation='sigmoid'))"
   ]
  },
  {
   "cell_type": "code",
   "execution_count": 9,
   "metadata": {},
   "outputs": [],
   "source": [
    "# compile the model\n",
    "model.compile(optimizer='adam',loss='binary_crossentropy', metrics=['accuracy'])"
   ]
  },
  {
   "cell_type": "code",
   "execution_count": 10,
   "metadata": {},
   "outputs": [
    {
     "name": "stdout",
     "output_type": "stream",
     "text": [
      "Epoch 1/100\n",
      "12/12 [==============================] - 3s 202ms/step - loss: 1.5755 - accuracy: 0.2105 - val_loss: 1.4512 - val_accuracy: 0.1862\n",
      "Epoch 2/100\n",
      "12/12 [==============================] - 0s 30ms/step - loss: 1.3773 - accuracy: 0.2537 - val_loss: 1.3280 - val_accuracy: 0.2287\n",
      "Epoch 3/100\n",
      "12/12 [==============================] - 0s 31ms/step - loss: 1.3249 - accuracy: 0.2779 - val_loss: 1.2120 - val_accuracy: 0.2660\n",
      "Epoch 4/100\n",
      "12/12 [==============================] - 0s 31ms/step - loss: 1.1710 - accuracy: 0.3197 - val_loss: 1.1063 - val_accuracy: 0.3138\n",
      "Epoch 5/100\n",
      "12/12 [==============================] - 0s 25ms/step - loss: 1.2351 - accuracy: 0.3160 - val_loss: 1.0059 - val_accuracy: 0.3564\n",
      "Epoch 6/100\n",
      "12/12 [==============================] - 0s 32ms/step - loss: 1.0435 - accuracy: 0.3379 - val_loss: 0.9183 - val_accuracy: 0.4202\n",
      "Epoch 7/100\n",
      "12/12 [==============================] - 0s 30ms/step - loss: 0.9366 - accuracy: 0.4311 - val_loss: 0.8400 - val_accuracy: 0.4681\n",
      "Epoch 8/100\n",
      "12/12 [==============================] - 0s 30ms/step - loss: 0.8125 - accuracy: 0.4788 - val_loss: 0.7698 - val_accuracy: 0.5160\n",
      "Epoch 9/100\n",
      "12/12 [==============================] - 0s 32ms/step - loss: 0.8505 - accuracy: 0.5143 - val_loss: 0.7064 - val_accuracy: 0.5532\n",
      "Epoch 10/100\n",
      "12/12 [==============================] - 0s 31ms/step - loss: 0.7688 - accuracy: 0.5778 - val_loss: 0.6515 - val_accuracy: 0.5691\n",
      "Epoch 11/100\n",
      "12/12 [==============================] - 0s 29ms/step - loss: 0.6981 - accuracy: 0.6110 - val_loss: 0.6026 - val_accuracy: 0.6543\n",
      "Epoch 12/100\n",
      "12/12 [==============================] - 0s 24ms/step - loss: 0.6065 - accuracy: 0.6781 - val_loss: 0.5604 - val_accuracy: 0.7340\n",
      "Epoch 13/100\n",
      "12/12 [==============================] - 0s 32ms/step - loss: 0.6230 - accuracy: 0.6625 - val_loss: 0.5228 - val_accuracy: 0.7713\n",
      "Epoch 14/100\n",
      "12/12 [==============================] - 0s 34ms/step - loss: 0.5643 - accuracy: 0.7374 - val_loss: 0.4899 - val_accuracy: 0.8191\n",
      "Epoch 15/100\n",
      "12/12 [==============================] - 0s 38ms/step - loss: 0.5117 - accuracy: 0.7336 - val_loss: 0.4600 - val_accuracy: 0.8404\n",
      "Epoch 16/100\n",
      "12/12 [==============================] - 0s 28ms/step - loss: 0.4877 - accuracy: 0.7831 - val_loss: 0.4335 - val_accuracy: 0.8511\n",
      "Epoch 17/100\n",
      "12/12 [==============================] - 0s 24ms/step - loss: 0.4734 - accuracy: 0.7871 - val_loss: 0.4095 - val_accuracy: 0.8617\n",
      "Epoch 18/100\n",
      "12/12 [==============================] - 0s 7ms/step - loss: 0.4245 - accuracy: 0.8412 - val_loss: 0.3881 - val_accuracy: 0.8723\n",
      "Epoch 19/100\n",
      "12/12 [==============================] - 0s 7ms/step - loss: 0.4161 - accuracy: 0.8520 - val_loss: 0.3691 - val_accuracy: 0.8883\n",
      "Epoch 20/100\n",
      "12/12 [==============================] - 0s 6ms/step - loss: 0.3809 - accuracy: 0.8541 - val_loss: 0.3518 - val_accuracy: 0.8989\n",
      "Epoch 21/100\n",
      "12/12 [==============================] - 0s 8ms/step - loss: 0.4027 - accuracy: 0.8505 - val_loss: 0.3356 - val_accuracy: 0.9043\n",
      "Epoch 22/100\n",
      "12/12 [==============================] - 0s 7ms/step - loss: 0.3647 - accuracy: 0.8658 - val_loss: 0.3212 - val_accuracy: 0.9043\n",
      "Epoch 23/100\n",
      "12/12 [==============================] - 0s 12ms/step - loss: 0.3430 - accuracy: 0.8917 - val_loss: 0.3081 - val_accuracy: 0.9096\n",
      "Epoch 24/100\n",
      "12/12 [==============================] - 0s 9ms/step - loss: 0.3424 - accuracy: 0.8607 - val_loss: 0.2959 - val_accuracy: 0.9149\n",
      "Epoch 25/100\n",
      "12/12 [==============================] - 0s 9ms/step - loss: 0.3296 - accuracy: 0.8823 - val_loss: 0.2848 - val_accuracy: 0.9149\n",
      "Epoch 26/100\n",
      "12/12 [==============================] - 0s 7ms/step - loss: 0.3083 - accuracy: 0.8832 - val_loss: 0.2745 - val_accuracy: 0.9202\n",
      "Epoch 27/100\n",
      "12/12 [==============================] - 0s 7ms/step - loss: 0.3106 - accuracy: 0.8796 - val_loss: 0.2651 - val_accuracy: 0.9202\n",
      "Epoch 28/100\n",
      "12/12 [==============================] - 0s 7ms/step - loss: 0.2856 - accuracy: 0.8881 - val_loss: 0.2563 - val_accuracy: 0.9362\n",
      "Epoch 29/100\n",
      "12/12 [==============================] - 0s 6ms/step - loss: 0.2863 - accuracy: 0.8883 - val_loss: 0.2483 - val_accuracy: 0.9309\n",
      "Epoch 30/100\n",
      "12/12 [==============================] - 0s 7ms/step - loss: 0.2821 - accuracy: 0.8996 - val_loss: 0.2404 - val_accuracy: 0.9362\n",
      "Epoch 31/100\n",
      "12/12 [==============================] - 0s 7ms/step - loss: 0.2845 - accuracy: 0.8881 - val_loss: 0.2335 - val_accuracy: 0.9415\n",
      "Epoch 32/100\n",
      "12/12 [==============================] - 0s 7ms/step - loss: 0.2471 - accuracy: 0.8983 - val_loss: 0.2271 - val_accuracy: 0.9415\n",
      "Epoch 33/100\n",
      "12/12 [==============================] - 0s 7ms/step - loss: 0.2950 - accuracy: 0.8788 - val_loss: 0.2207 - val_accuracy: 0.9415\n",
      "Epoch 34/100\n",
      "12/12 [==============================] - 0s 11ms/step - loss: 0.2642 - accuracy: 0.9013 - val_loss: 0.2148 - val_accuracy: 0.9415\n",
      "Epoch 35/100\n",
      "12/12 [==============================] - 0s 7ms/step - loss: 0.2680 - accuracy: 0.8882 - val_loss: 0.2092 - val_accuracy: 0.9468\n",
      "Epoch 36/100\n",
      "12/12 [==============================] - 0s 7ms/step - loss: 0.2379 - accuracy: 0.9154 - val_loss: 0.2040 - val_accuracy: 0.9468\n",
      "Epoch 37/100\n",
      "12/12 [==============================] - 0s 7ms/step - loss: 0.2272 - accuracy: 0.9234 - val_loss: 0.1992 - val_accuracy: 0.9521\n",
      "Epoch 38/100\n",
      "12/12 [==============================] - 0s 7ms/step - loss: 0.2365 - accuracy: 0.9084 - val_loss: 0.1945 - val_accuracy: 0.9574\n",
      "Epoch 39/100\n",
      "12/12 [==============================] - 0s 7ms/step - loss: 0.2479 - accuracy: 0.9118 - val_loss: 0.1901 - val_accuracy: 0.9574\n",
      "Epoch 40/100\n",
      "12/12 [==============================] - 0s 7ms/step - loss: 0.2346 - accuracy: 0.9087 - val_loss: 0.1859 - val_accuracy: 0.9628\n",
      "Epoch 41/100\n",
      "12/12 [==============================] - 0s 7ms/step - loss: 0.2140 - accuracy: 0.9096 - val_loss: 0.1820 - val_accuracy: 0.9734\n",
      "Epoch 42/100\n",
      "12/12 [==============================] - 0s 7ms/step - loss: 0.2280 - accuracy: 0.9070 - val_loss: 0.1783 - val_accuracy: 0.9734\n",
      "Epoch 43/100\n",
      "12/12 [==============================] - 0s 7ms/step - loss: 0.2236 - accuracy: 0.9186 - val_loss: 0.1745 - val_accuracy: 0.9787\n",
      "Epoch 44/100\n",
      "12/12 [==============================] - 0s 7ms/step - loss: 0.2135 - accuracy: 0.9156 - val_loss: 0.1712 - val_accuracy: 0.9787\n",
      "Epoch 45/100\n",
      "12/12 [==============================] - 0s 7ms/step - loss: 0.2219 - accuracy: 0.9213 - val_loss: 0.1679 - val_accuracy: 0.9787\n",
      "Epoch 46/100\n",
      "12/12 [==============================] - 0s 7ms/step - loss: 0.2132 - accuracy: 0.9177 - val_loss: 0.1648 - val_accuracy: 0.9787\n",
      "Epoch 47/100\n",
      "12/12 [==============================] - 0s 7ms/step - loss: 0.2206 - accuracy: 0.9197 - val_loss: 0.1618 - val_accuracy: 0.9787\n",
      "Epoch 48/100\n",
      "12/12 [==============================] - 0s 7ms/step - loss: 0.1989 - accuracy: 0.9298 - val_loss: 0.1589 - val_accuracy: 0.9787\n",
      "Epoch 49/100\n",
      "12/12 [==============================] - 0s 7ms/step - loss: 0.1621 - accuracy: 0.9579 - val_loss: 0.1562 - val_accuracy: 0.9787\n",
      "Epoch 50/100\n",
      "12/12 [==============================] - 0s 8ms/step - loss: 0.1877 - accuracy: 0.9354 - val_loss: 0.1535 - val_accuracy: 0.9787\n",
      "Epoch 51/100\n",
      "12/12 [==============================] - 0s 7ms/step - loss: 0.1814 - accuracy: 0.9545 - val_loss: 0.1510 - val_accuracy: 0.9787\n",
      "Epoch 52/100\n",
      "12/12 [==============================] - 0s 7ms/step - loss: 0.1764 - accuracy: 0.9471 - val_loss: 0.1486 - val_accuracy: 0.9840\n",
      "Epoch 53/100\n",
      "12/12 [==============================] - 0s 5ms/step - loss: 0.1920 - accuracy: 0.9262 - val_loss: 0.1462 - val_accuracy: 0.9840\n",
      "Epoch 54/100\n",
      "12/12 [==============================] - 0s 6ms/step - loss: 0.1797 - accuracy: 0.9386 - val_loss: 0.1441 - val_accuracy: 0.9840\n",
      "Epoch 55/100\n",
      "12/12 [==============================] - 0s 9ms/step - loss: 0.1654 - accuracy: 0.9520 - val_loss: 0.1419 - val_accuracy: 0.9840\n",
      "Epoch 56/100\n",
      "12/12 [==============================] - 0s 9ms/step - loss: 0.1795 - accuracy: 0.9467 - val_loss: 0.1398 - val_accuracy: 0.9840\n",
      "Epoch 57/100\n",
      "12/12 [==============================] - 0s 6ms/step - loss: 0.1662 - accuracy: 0.9575 - val_loss: 0.1378 - val_accuracy: 0.9840\n",
      "Epoch 58/100\n",
      "12/12 [==============================] - 0s 6ms/step - loss: 0.1648 - accuracy: 0.9588 - val_loss: 0.1359 - val_accuracy: 0.9840\n",
      "Epoch 59/100\n",
      "12/12 [==============================] - 0s 7ms/step - loss: 0.1666 - accuracy: 0.9385 - val_loss: 0.1341 - val_accuracy: 0.9787\n",
      "Epoch 60/100\n",
      "12/12 [==============================] - 0s 7ms/step - loss: 0.1871 - accuracy: 0.9386 - val_loss: 0.1323 - val_accuracy: 0.9787\n",
      "Epoch 61/100\n",
      "12/12 [==============================] - 0s 6ms/step - loss: 0.1619 - accuracy: 0.9451 - val_loss: 0.1305 - val_accuracy: 0.9787\n",
      "Epoch 62/100\n",
      "12/12 [==============================] - 0s 7ms/step - loss: 0.1734 - accuracy: 0.9413 - val_loss: 0.1288 - val_accuracy: 0.9787\n",
      "Epoch 63/100\n",
      "12/12 [==============================] - 0s 7ms/step - loss: 0.1610 - accuracy: 0.9510 - val_loss: 0.1272 - val_accuracy: 0.9787\n",
      "Epoch 64/100\n",
      "12/12 [==============================] - 0s 6ms/step - loss: 0.1707 - accuracy: 0.9459 - val_loss: 0.1256 - val_accuracy: 0.9787\n",
      "Epoch 65/100\n",
      "12/12 [==============================] - 0s 9ms/step - loss: 0.1512 - accuracy: 0.9615 - val_loss: 0.1241 - val_accuracy: 0.9787\n",
      "Epoch 66/100\n",
      "12/12 [==============================] - 0s 10ms/step - loss: 0.1647 - accuracy: 0.9385 - val_loss: 0.1226 - val_accuracy: 0.9787\n",
      "Epoch 67/100\n",
      "12/12 [==============================] - 0s 6ms/step - loss: 0.1564 - accuracy: 0.9468 - val_loss: 0.1212 - val_accuracy: 0.9840\n",
      "Epoch 68/100\n",
      "12/12 [==============================] - 0s 5ms/step - loss: 0.1716 - accuracy: 0.9479 - val_loss: 0.1197 - val_accuracy: 0.9840\n",
      "Epoch 69/100\n",
      "12/12 [==============================] - 0s 8ms/step - loss: 0.1507 - accuracy: 0.9538 - val_loss: 0.1184 - val_accuracy: 0.9840\n",
      "Epoch 70/100\n",
      "12/12 [==============================] - 0s 7ms/step - loss: 0.1501 - accuracy: 0.9552 - val_loss: 0.1171 - val_accuracy: 0.9840\n",
      "Epoch 71/100\n",
      "12/12 [==============================] - 0s 6ms/step - loss: 0.1581 - accuracy: 0.9519 - val_loss: 0.1158 - val_accuracy: 0.9840\n",
      "Epoch 72/100\n",
      "12/12 [==============================] - 0s 5ms/step - loss: 0.1626 - accuracy: 0.9445 - val_loss: 0.1146 - val_accuracy: 0.9840\n",
      "Epoch 73/100\n",
      "12/12 [==============================] - 0s 5ms/step - loss: 0.1645 - accuracy: 0.9435 - val_loss: 0.1135 - val_accuracy: 0.9840\n",
      "Epoch 74/100\n",
      "12/12 [==============================] - 0s 5ms/step - loss: 0.1502 - accuracy: 0.9566 - val_loss: 0.1123 - val_accuracy: 0.9840\n",
      "Epoch 75/100\n",
      "12/12 [==============================] - 0s 5ms/step - loss: 0.1324 - accuracy: 0.9634 - val_loss: 0.1111 - val_accuracy: 0.9840\n",
      "Epoch 76/100\n",
      "12/12 [==============================] - 0s 9ms/step - loss: 0.1456 - accuracy: 0.9584 - val_loss: 0.1100 - val_accuracy: 0.9840\n",
      "Epoch 77/100\n",
      "12/12 [==============================] - 0s 9ms/step - loss: 0.1437 - accuracy: 0.9533 - val_loss: 0.1089 - val_accuracy: 0.9840\n",
      "Epoch 78/100\n",
      "12/12 [==============================] - 0s 6ms/step - loss: 0.1510 - accuracy: 0.9367 - val_loss: 0.1079 - val_accuracy: 0.9840\n",
      "Epoch 79/100\n",
      "12/12 [==============================] - 0s 7ms/step - loss: 0.1499 - accuracy: 0.9556 - val_loss: 0.1069 - val_accuracy: 0.9840\n",
      "Epoch 80/100\n",
      "12/12 [==============================] - 0s 5ms/step - loss: 0.1283 - accuracy: 0.9667 - val_loss: 0.1059 - val_accuracy: 0.9840\n",
      "Epoch 81/100\n",
      "12/12 [==============================] - 0s 5ms/step - loss: 0.1457 - accuracy: 0.9530 - val_loss: 0.1049 - val_accuracy: 0.9840\n",
      "Epoch 82/100\n",
      "12/12 [==============================] - 0s 6ms/step - loss: 0.1518 - accuracy: 0.9447 - val_loss: 0.1040 - val_accuracy: 0.9840\n",
      "Epoch 83/100\n",
      "12/12 [==============================] - 0s 7ms/step - loss: 0.1563 - accuracy: 0.9455 - val_loss: 0.1031 - val_accuracy: 0.9840\n",
      "Epoch 84/100\n",
      "12/12 [==============================] - 0s 8ms/step - loss: 0.1497 - accuracy: 0.9575 - val_loss: 0.1021 - val_accuracy: 0.9840\n",
      "Epoch 85/100\n",
      "12/12 [==============================] - 0s 8ms/step - loss: 0.1576 - accuracy: 0.9338 - val_loss: 0.1013 - val_accuracy: 0.9840\n",
      "Epoch 86/100\n",
      "12/12 [==============================] - 0s 6ms/step - loss: 0.1246 - accuracy: 0.9674 - val_loss: 0.1004 - val_accuracy: 0.9840\n",
      "Epoch 87/100\n",
      "12/12 [==============================] - 0s 6ms/step - loss: 0.1538 - accuracy: 0.9480 - val_loss: 0.0996 - val_accuracy: 0.9840\n",
      "Epoch 88/100\n",
      "12/12 [==============================] - 0s 5ms/step - loss: 0.1289 - accuracy: 0.9642 - val_loss: 0.0988 - val_accuracy: 0.9840\n",
      "Epoch 89/100\n",
      "12/12 [==============================] - 0s 7ms/step - loss: 0.1393 - accuracy: 0.9588 - val_loss: 0.0979 - val_accuracy: 0.9840\n",
      "Epoch 90/100\n",
      "12/12 [==============================] - 0s 10ms/step - loss: 0.1329 - accuracy: 0.9512 - val_loss: 0.0972 - val_accuracy: 0.9840\n",
      "Epoch 91/100\n",
      "12/12 [==============================] - 0s 8ms/step - loss: 0.1534 - accuracy: 0.9458 - val_loss: 0.0965 - val_accuracy: 0.9840\n",
      "Epoch 92/100\n",
      "12/12 [==============================] - 0s 9ms/step - loss: 0.1335 - accuracy: 0.9607 - val_loss: 0.0957 - val_accuracy: 0.9840\n",
      "Epoch 93/100\n",
      "12/12 [==============================] - 0s 8ms/step - loss: 0.1460 - accuracy: 0.9469 - val_loss: 0.0949 - val_accuracy: 0.9840\n",
      "Epoch 94/100\n",
      "12/12 [==============================] - 0s 5ms/step - loss: 0.1186 - accuracy: 0.9618 - val_loss: 0.0943 - val_accuracy: 0.9840\n",
      "Epoch 95/100\n",
      "12/12 [==============================] - 0s 5ms/step - loss: 0.1410 - accuracy: 0.9567 - val_loss: 0.0935 - val_accuracy: 0.9840\n",
      "Epoch 96/100\n",
      "12/12 [==============================] - 0s 7ms/step - loss: 0.1266 - accuracy: 0.9583 - val_loss: 0.0928 - val_accuracy: 0.9840\n",
      "Epoch 97/100\n",
      "12/12 [==============================] - 0s 10ms/step - loss: 0.1355 - accuracy: 0.9481 - val_loss: 0.0922 - val_accuracy: 0.9840\n",
      "Epoch 98/100\n",
      "12/12 [==============================] - 0s 5ms/step - loss: 0.1188 - accuracy: 0.9678 - val_loss: 0.0915 - val_accuracy: 0.9840\n",
      "Epoch 99/100\n",
      "12/12 [==============================] - 0s 9ms/step - loss: 0.1244 - accuracy: 0.9662 - val_loss: 0.0909 - val_accuracy: 0.9840\n",
      "Epoch 100/100\n",
      "12/12 [==============================] - 0s 8ms/step - loss: 0.1627 - accuracy: 0.9480 - val_loss: 0.0903 - val_accuracy: 0.9840\n"
     ]
    }
   ],
   "source": [
    "# Train the model\n",
    "r = model.fit(X_train, y_train, epochs=100, validation_data=(X_test, y_test))"
   ]
  },
  {
   "cell_type": "code",
   "execution_count": 11,
   "metadata": {},
   "outputs": [
    {
     "name": "stdout",
     "output_type": "stream",
     "text": [
      "12/12 [==============================] - 0s 1ms/step - loss: 0.1272 - accuracy: 0.9633\n",
      "Train score: [0.1272464245557785, 0.9632545709609985]\n",
      "6/6 [==============================] - 0s 2ms/step - loss: 0.0903 - accuracy: 0.9840\n",
      "Test score: [0.09027430415153503, 0.9840425252914429]\n"
     ]
    }
   ],
   "source": [
    "# evaluate the model\n",
    "print(\"Train score:\", model.evaluate(X_train, y_train))\n",
    "print(\"Test score:\", model.evaluate(X_test, y_test))"
   ]
  },
  {
   "cell_type": "code",
   "execution_count": 12,
   "metadata": {},
   "outputs": [
    {
     "data": {
      "text/plain": [
       "[<matplotlib.lines.Line2D at 0x13c38d74400>]"
      ]
     },
     "execution_count": 12,
     "metadata": {},
     "output_type": "execute_result"
    },
    {
     "data": {
      "image/png": "[encoded data removed]",
      "text/plain": [
       "<Figure size 432x288 with 1 Axes>"
      ]
     },
     "metadata": {
      "needs_background": "light"
     },
     "output_type": "display_data"
    }
   ],
   "source": [
    "# Plot the loss per epoch\n",
    "plt.plot(r.history['loss'], label='train_loss')\n",
    "plt.plot(r.history['val_loss'], label='test_loss')"
   ]
  },
  {
   "cell_type": "code",
   "execution_count": 13,
   "metadata": {},
   "outputs": [
    {
     "data": {
      "text/plain": [
       "[<matplotlib.lines.Line2D at 0x13c38e22df0>]"
      ]
     },
     "execution_count": 13,
     "metadata": {},
     "output_type": "execute_result"
    },
    {
     "data": {
      "image/png": "[encoded data removed]",
      "text/plain": [
       "<Figure size 432x288 with 1 Axes>"
      ]
     },
     "metadata": {
      "needs_background": "light"
     },
     "output_type": "display_data"
    }
   ],
   "source": [
    "# Plot the accuracy\n",
    "plt.plot(r.history['accuracy'], label='train_acc')\n",
    "plt.plot(r.history['val_accuracy'], label='test_acc')"
   ]
  },
  {
   "cell_type": "code",
   "execution_count": null,
   "metadata": {},
   "outputs": [],
   "source": []
  }
 ],
 "metadata": {
  "kernelspec": {
   "display_name": "Python 3",
   "language": "python",
   "name": "python3"
  },
  "language_info": {
   "codemirror_mode": {
    "name": "ipython",
    "version": 3
   },
   "file_extension": ".py",
   "mimetype": "text/x-python",
   "name": "python",
   "nbconvert_exporter": "python",
   "pygments_lexer": "ipython3",
   "version": "3.8.5"
  }
 },
 "nbformat": 4,
 "nbformat_minor": 4
}
