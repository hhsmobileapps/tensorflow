{
 "cells": [
  {
   "cell_type": "code",
   "execution_count": 1,
   "metadata": {},
   "outputs": [],
   "source": [
    "from sklearn.datasets import load_breast_cancer # Dataset (from sklearn)\n",
    "from sklearn.model_selection import train_test_split\n",
    "from sklearn.preprocessing import StandardScaler\n",
    "import matplotlib.pyplot as plt\n",
    "import tensorflow as tf"
   ]
  },
  {
   "cell_type": "code",
   "execution_count": 2,
   "metadata": {},
   "outputs": [],
   "source": [
    "data = load_breast_cancer()"
   ]
  },
  {
   "cell_type": "code",
   "execution_count": 3,
   "metadata": {},
   "outputs": [
    {
     "data": {
      "text/plain": [
       "dict_keys(['data', 'target', 'frame', 'target_names', 'DESCR', 'feature_names', 'filename'])"
      ]
     },
     "execution_count": 3,
     "metadata": {},
     "output_type": "execute_result"
    }
   ],
   "source": [
    "# data type of Bunch (similar to dictionary)\n",
    "data.keys()"
   ]
  },
  {
   "cell_type": "code",
   "execution_count": 4,
   "metadata": {},
   "outputs": [
    {
     "data": {
      "text/plain": [
       "array(['mean radius', 'mean texture', 'mean perimeter', 'mean area',\n",
       "       'mean smoothness', 'mean compactness', 'mean concavity',\n",
       "       'mean concave points', 'mean symmetry', 'mean fractal dimension',\n",
       "       'radius error', 'texture error', 'perimeter error', 'area error',\n",
       "       'smoothness error', 'compactness error', 'concavity error',\n",
       "       'concave points error', 'symmetry error',\n",
       "       'fractal dimension error', 'worst radius', 'worst texture',\n",
       "       'worst perimeter', 'worst area', 'worst smoothness',\n",
       "       'worst compactness', 'worst concavity', 'worst concave points',\n",
       "       'worst symmetry', 'worst fractal dimension'], dtype='<U23')"
      ]
     },
     "execution_count": 4,
     "metadata": {},
     "output_type": "execute_result"
    }
   ],
   "source": [
    "# The input features\n",
    "data.feature_names"
   ]
  },
  {
   "cell_type": "code",
   "execution_count": 5,
   "metadata": {},
   "outputs": [
    {
     "data": {
      "text/plain": [
       "array(['malignant', 'benign'], dtype='<U9')"
      ]
     },
     "execution_count": 5,
     "metadata": {},
     "output_type": "execute_result"
    }
   ],
   "source": [
    "# The target labels\n",
    "data.target_names"
   ]
  },
  {
   "cell_type": "code",
   "execution_count": 6,
   "metadata": {},
   "outputs": [],
   "source": [
    "# split the data into train and test sets\n",
    "X = data.data\n",
    "y = data.target\n",
    "X_train, X_test, y_train, y_test = train_test_split(X, y, test_size=0.33)"
   ]
  },
  {
   "cell_type": "code",
   "execution_count": 7,
   "metadata": {},
   "outputs": [],
   "source": [
    "# Scale the data\n",
    "scaler = StandardScaler()\n",
    "X_train = scaler.fit_transform(X_train)\n",
    "X_test = scaler.transform(X_test)"
   ]
  },
  {
   "cell_type": "code",
   "execution_count": 8,
   "metadata": {},
   "outputs": [],
   "source": [
    "# Build the TF model\n",
    "model = tf.keras.models.Sequential()\n",
    "model.add(tf.keras.layers.Input(shape=(X_train.shape[1],)))\n",
    "model.add(tf.keras.layers.Dense(1, activation='sigmoid'))"
   ]
  },
  {
   "cell_type": "code",
   "execution_count": 9,
   "metadata": {},
   "outputs": [],
   "source": [
    "# compile the model\n",
    "model.compile(optimizer='adam',loss='binary_crossentropy', metrics=['accuracy'])"
   ]
  },
  {
   "cell_type": "code",
   "execution_count": 10,
   "metadata": {},
   "outputs": [
    {
     "name": "stdout",
     "output_type": "stream",
     "text": [
      "Epoch 1/100\n",
      "12/12 [==============================] - 4s 259ms/step - loss: 0.7275 - accuracy: 0.6181 - val_loss: 0.7530 - val_accuracy: 0.6596\n",
      "Epoch 2/100\n",
      "12/12 [==============================] - 0s 33ms/step - loss: 0.6550 - accuracy: 0.6630 - val_loss: 0.7028 - val_accuracy: 0.6968\n",
      "Epoch 3/100\n",
      "12/12 [==============================] - 0s 41ms/step - loss: 0.6883 - accuracy: 0.6931 - val_loss: 0.6567 - val_accuracy: 0.7128\n",
      "Epoch 4/100\n",
      "12/12 [==============================] - 0s 39ms/step - loss: 0.5828 - accuracy: 0.7100 - val_loss: 0.6154 - val_accuracy: 0.7447\n",
      "Epoch 5/100\n",
      "12/12 [==============================] - 0s 40ms/step - loss: 0.5766 - accuracy: 0.7132 - val_loss: 0.5785 - val_accuracy: 0.7660\n",
      "Epoch 6/100\n",
      "12/12 [==============================] - 0s 41ms/step - loss: 0.5445 - accuracy: 0.7648 - val_loss: 0.5456 - val_accuracy: 0.7713\n",
      "Epoch 7/100\n",
      "12/12 [==============================] - 0s 40ms/step - loss: 0.4873 - accuracy: 0.7969 - val_loss: 0.5159 - val_accuracy: 0.8032\n",
      "Epoch 8/100\n",
      "12/12 [==============================] - 0s 38ms/step - loss: 0.5088 - accuracy: 0.7749 - val_loss: 0.4877 - val_accuracy: 0.8191\n",
      "Epoch 9/100\n",
      "12/12 [==============================] - 0s 39ms/step - loss: 0.4509 - accuracy: 0.8145 - val_loss: 0.4628 - val_accuracy: 0.8245\n",
      "Epoch 10/100\n",
      "12/12 [==============================] - 0s 40ms/step - loss: 0.4483 - accuracy: 0.8146 - val_loss: 0.4398 - val_accuracy: 0.8298\n",
      "Epoch 11/100\n",
      "12/12 [==============================] - 0s 41ms/step - loss: 0.4278 - accuracy: 0.8529 - val_loss: 0.4184 - val_accuracy: 0.8404\n",
      "Epoch 12/100\n",
      "12/12 [==============================] - 0s 31ms/step - loss: 0.3922 - accuracy: 0.8621 - val_loss: 0.3988 - val_accuracy: 0.8457\n",
      "Epoch 13/100\n",
      "12/12 [==============================] - 0s 33ms/step - loss: 0.4058 - accuracy: 0.8422 - val_loss: 0.3807 - val_accuracy: 0.8617\n",
      "Epoch 14/100\n",
      "12/12 [==============================] - 0s 39ms/step - loss: 0.3260 - accuracy: 0.8924 - val_loss: 0.3652 - val_accuracy: 0.8670\n",
      "Epoch 15/100\n",
      "12/12 [==============================] - 0s 41ms/step - loss: 0.3315 - accuracy: 0.8866 - val_loss: 0.3500 - val_accuracy: 0.8670\n",
      "Epoch 16/100\n",
      "12/12 [==============================] - 0s 35ms/step - loss: 0.3399 - accuracy: 0.8856 - val_loss: 0.3355 - val_accuracy: 0.8723\n",
      "Epoch 17/100\n",
      "12/12 [==============================] - 0s 28ms/step - loss: 0.3176 - accuracy: 0.9008 - val_loss: 0.3222 - val_accuracy: 0.8777\n",
      "Epoch 18/100\n",
      "12/12 [==============================] - 0s 7ms/step - loss: 0.2858 - accuracy: 0.9152 - val_loss: 0.3102 - val_accuracy: 0.8830\n",
      "Epoch 19/100\n",
      "12/12 [==============================] - 0s 8ms/step - loss: 0.3295 - accuracy: 0.8914 - val_loss: 0.2986 - val_accuracy: 0.8883\n",
      "Epoch 20/100\n",
      "12/12 [==============================] - 0s 9ms/step - loss: 0.2927 - accuracy: 0.9124 - val_loss: 0.2883 - val_accuracy: 0.8989\n",
      "Epoch 21/100\n",
      "12/12 [==============================] - 0s 8ms/step - loss: 0.2802 - accuracy: 0.9132 - val_loss: 0.2791 - val_accuracy: 0.9043\n",
      "Epoch 22/100\n",
      "12/12 [==============================] - 0s 8ms/step - loss: 0.2316 - accuracy: 0.9424 - val_loss: 0.2709 - val_accuracy: 0.9096\n",
      "Epoch 23/100\n",
      "12/12 [==============================] - 0s 8ms/step - loss: 0.2700 - accuracy: 0.9180 - val_loss: 0.2622 - val_accuracy: 0.9149\n",
      "Epoch 24/100\n",
      "12/12 [==============================] - 0s 8ms/step - loss: 0.2415 - accuracy: 0.9270 - val_loss: 0.2546 - val_accuracy: 0.9149\n",
      "Epoch 25/100\n",
      "12/12 [==============================] - 0s 8ms/step - loss: 0.2603 - accuracy: 0.9083 - val_loss: 0.2473 - val_accuracy: 0.9149\n",
      "Epoch 26/100\n",
      "12/12 [==============================] - 0s 8ms/step - loss: 0.2071 - accuracy: 0.9424 - val_loss: 0.2411 - val_accuracy: 0.9202\n",
      "Epoch 27/100\n",
      "12/12 [==============================] - 0s 7ms/step - loss: 0.2084 - accuracy: 0.9343 - val_loss: 0.2348 - val_accuracy: 0.9202\n",
      "Epoch 28/100\n",
      "12/12 [==============================] - 0s 8ms/step - loss: 0.2157 - accuracy: 0.9335 - val_loss: 0.2290 - val_accuracy: 0.9149\n",
      "Epoch 29/100\n",
      "12/12 [==============================] - 0s 8ms/step - loss: 0.2096 - accuracy: 0.9423 - val_loss: 0.2238 - val_accuracy: 0.9149\n",
      "Epoch 30/100\n",
      "12/12 [==============================] - 0s 8ms/step - loss: 0.2091 - accuracy: 0.9363 - val_loss: 0.2189 - val_accuracy: 0.9255\n",
      "Epoch 31/100\n",
      "12/12 [==============================] - 0s 7ms/step - loss: 0.2122 - accuracy: 0.9372 - val_loss: 0.2141 - val_accuracy: 0.9309\n",
      "Epoch 32/100\n",
      "12/12 [==============================] - 0s 8ms/step - loss: 0.1995 - accuracy: 0.9353 - val_loss: 0.2097 - val_accuracy: 0.9309\n",
      "Epoch 33/100\n",
      "12/12 [==============================] - 0s 9ms/step - loss: 0.1746 - accuracy: 0.9531 - val_loss: 0.2057 - val_accuracy: 0.9309\n",
      "Epoch 34/100\n",
      "12/12 [==============================] - 0s 7ms/step - loss: 0.1813 - accuracy: 0.9484 - val_loss: 0.2018 - val_accuracy: 0.9309\n",
      "Epoch 35/100\n",
      "12/12 [==============================] - 0s 7ms/step - loss: 0.1903 - accuracy: 0.9305 - val_loss: 0.1982 - val_accuracy: 0.9362\n",
      "Epoch 36/100\n",
      "12/12 [==============================] - 0s 9ms/step - loss: 0.1856 - accuracy: 0.9416 - val_loss: 0.1948 - val_accuracy: 0.9415\n",
      "Epoch 37/100\n",
      "12/12 [==============================] - 0s 8ms/step - loss: 0.1639 - accuracy: 0.9514 - val_loss: 0.1916 - val_accuracy: 0.9468\n",
      "Epoch 38/100\n",
      "12/12 [==============================] - 0s 7ms/step - loss: 0.1854 - accuracy: 0.9336 - val_loss: 0.1885 - val_accuracy: 0.9468\n",
      "Epoch 39/100\n",
      "12/12 [==============================] - 0s 8ms/step - loss: 0.1701 - accuracy: 0.9454 - val_loss: 0.1855 - val_accuracy: 0.9468\n",
      "Epoch 40/100\n",
      "12/12 [==============================] - 0s 7ms/step - loss: 0.1560 - accuracy: 0.9574 - val_loss: 0.1827 - val_accuracy: 0.9468\n",
      "Epoch 41/100\n",
      "12/12 [==============================] - 0s 8ms/step - loss: 0.1602 - accuracy: 0.9483 - val_loss: 0.1801 - val_accuracy: 0.9468\n",
      "Epoch 42/100\n",
      "12/12 [==============================] - 0s 8ms/step - loss: 0.1652 - accuracy: 0.9556 - val_loss: 0.1775 - val_accuracy: 0.9468\n",
      "Epoch 43/100\n",
      "12/12 [==============================] - 0s 8ms/step - loss: 0.1743 - accuracy: 0.9524 - val_loss: 0.1751 - val_accuracy: 0.9521\n",
      "Epoch 44/100\n",
      "12/12 [==============================] - 0s 7ms/step - loss: 0.1503 - accuracy: 0.9657 - val_loss: 0.1728 - val_accuracy: 0.9521\n",
      "Epoch 45/100\n",
      "12/12 [==============================] - 0s 8ms/step - loss: 0.1582 - accuracy: 0.9508 - val_loss: 0.1706 - val_accuracy: 0.9521\n",
      "Epoch 46/100\n",
      "12/12 [==============================] - 0s 7ms/step - loss: 0.1426 - accuracy: 0.9621 - val_loss: 0.1685 - val_accuracy: 0.9521\n",
      "Epoch 47/100\n",
      "12/12 [==============================] - 0s 8ms/step - loss: 0.1520 - accuracy: 0.9557 - val_loss: 0.1665 - val_accuracy: 0.9521\n",
      "Epoch 48/100\n",
      "12/12 [==============================] - 0s 9ms/step - loss: 0.1500 - accuracy: 0.9583 - val_loss: 0.1645 - val_accuracy: 0.9521\n",
      "Epoch 49/100\n",
      "12/12 [==============================] - 0s 7ms/step - loss: 0.1540 - accuracy: 0.9529 - val_loss: 0.1626 - val_accuracy: 0.9574\n",
      "Epoch 50/100\n",
      "12/12 [==============================] - 0s 9ms/step - loss: 0.1381 - accuracy: 0.9676 - val_loss: 0.1608 - val_accuracy: 0.9574\n",
      "Epoch 51/100\n",
      "12/12 [==============================] - 0s 8ms/step - loss: 0.1321 - accuracy: 0.9707 - val_loss: 0.1590 - val_accuracy: 0.9574\n",
      "Epoch 52/100\n",
      "12/12 [==============================] - 0s 8ms/step - loss: 0.1225 - accuracy: 0.9730 - val_loss: 0.1574 - val_accuracy: 0.9574\n",
      "Epoch 53/100\n",
      "12/12 [==============================] - 0s 8ms/step - loss: 0.1465 - accuracy: 0.9526 - val_loss: 0.1557 - val_accuracy: 0.9628\n",
      "Epoch 54/100\n",
      "12/12 [==============================] - 0s 8ms/step - loss: 0.1379 - accuracy: 0.9562 - val_loss: 0.1542 - val_accuracy: 0.9628\n",
      "Epoch 55/100\n",
      "12/12 [==============================] - 0s 8ms/step - loss: 0.1302 - accuracy: 0.9677 - val_loss: 0.1527 - val_accuracy: 0.9628\n",
      "Epoch 56/100\n",
      "12/12 [==============================] - 0s 9ms/step - loss: 0.1365 - accuracy: 0.9455 - val_loss: 0.1512 - val_accuracy: 0.9628\n",
      "Epoch 57/100\n",
      "12/12 [==============================] - 0s 8ms/step - loss: 0.1262 - accuracy: 0.9728 - val_loss: 0.1498 - val_accuracy: 0.9628\n",
      "Epoch 58/100\n"
     ]
    },
    {
     "name": "stdout",
     "output_type": "stream",
     "text": [
      "12/12 [==============================] - 0s 7ms/step - loss: 0.1411 - accuracy: 0.9566 - val_loss: 0.1484 - val_accuracy: 0.9681\n",
      "Epoch 59/100\n",
      "12/12 [==============================] - 0s 8ms/step - loss: 0.1301 - accuracy: 0.9557 - val_loss: 0.1471 - val_accuracy: 0.9681\n",
      "Epoch 60/100\n",
      "12/12 [==============================] - 0s 7ms/step - loss: 0.1186 - accuracy: 0.9683 - val_loss: 0.1458 - val_accuracy: 0.9681\n",
      "Epoch 61/100\n",
      "12/12 [==============================] - 0s 8ms/step - loss: 0.1349 - accuracy: 0.9619 - val_loss: 0.1446 - val_accuracy: 0.9681\n",
      "Epoch 62/100\n",
      "12/12 [==============================] - 0s 8ms/step - loss: 0.1337 - accuracy: 0.9545 - val_loss: 0.1434 - val_accuracy: 0.9681\n",
      "Epoch 63/100\n",
      "12/12 [==============================] - 0s 7ms/step - loss: 0.1238 - accuracy: 0.9616 - val_loss: 0.1422 - val_accuracy: 0.9681\n",
      "Epoch 64/100\n",
      "12/12 [==============================] - 0s 8ms/step - loss: 0.1354 - accuracy: 0.9559 - val_loss: 0.1411 - val_accuracy: 0.9681\n",
      "Epoch 65/100\n",
      "12/12 [==============================] - 0s 7ms/step - loss: 0.1088 - accuracy: 0.9687 - val_loss: 0.1400 - val_accuracy: 0.9681\n",
      "Epoch 66/100\n",
      "12/12 [==============================] - 0s 8ms/step - loss: 0.1342 - accuracy: 0.9534 - val_loss: 0.1389 - val_accuracy: 0.9681\n",
      "Epoch 67/100\n",
      "12/12 [==============================] - 0s 8ms/step - loss: 0.1387 - accuracy: 0.9534 - val_loss: 0.1379 - val_accuracy: 0.9681\n",
      "Epoch 68/100\n",
      "12/12 [==============================] - 0s 7ms/step - loss: 0.1004 - accuracy: 0.9750 - val_loss: 0.1369 - val_accuracy: 0.9681\n",
      "Epoch 69/100\n",
      "12/12 [==============================] - 0s 6ms/step - loss: 0.1163 - accuracy: 0.9651 - val_loss: 0.1359 - val_accuracy: 0.9681\n",
      "Epoch 70/100\n",
      "12/12 [==============================] - 0s 7ms/step - loss: 0.1110 - accuracy: 0.9704 - val_loss: 0.1349 - val_accuracy: 0.9681\n",
      "Epoch 71/100\n",
      "12/12 [==============================] - 0s 7ms/step - loss: 0.1228 - accuracy: 0.9617 - val_loss: 0.1340 - val_accuracy: 0.9734\n",
      "Epoch 72/100\n",
      "12/12 [==============================] - 0s 8ms/step - loss: 0.1239 - accuracy: 0.9536 - val_loss: 0.1331 - val_accuracy: 0.9734\n",
      "Epoch 73/100\n",
      "12/12 [==============================] - 0s 7ms/step - loss: 0.0946 - accuracy: 0.9842 - val_loss: 0.1322 - val_accuracy: 0.9734\n",
      "Epoch 74/100\n",
      "12/12 [==============================] - 0s 8ms/step - loss: 0.1014 - accuracy: 0.9761 - val_loss: 0.1313 - val_accuracy: 0.9734\n",
      "Epoch 75/100\n",
      "12/12 [==============================] - 0s 8ms/step - loss: 0.1143 - accuracy: 0.9618 - val_loss: 0.1305 - val_accuracy: 0.9734\n",
      "Epoch 76/100\n",
      "12/12 [==============================] - 0s 8ms/step - loss: 0.1031 - accuracy: 0.9757 - val_loss: 0.1297 - val_accuracy: 0.9734\n",
      "Epoch 77/100\n",
      "12/12 [==============================] - 0s 8ms/step - loss: 0.1104 - accuracy: 0.9677 - val_loss: 0.1289 - val_accuracy: 0.9787\n",
      "Epoch 78/100\n",
      "12/12 [==============================] - 0s 8ms/step - loss: 0.1040 - accuracy: 0.9635 - val_loss: 0.1282 - val_accuracy: 0.9787\n",
      "Epoch 79/100\n",
      "12/12 [==============================] - 0s 6ms/step - loss: 0.1154 - accuracy: 0.9771 - val_loss: 0.1274 - val_accuracy: 0.9787\n",
      "Epoch 80/100\n",
      "12/12 [==============================] - 0s 8ms/step - loss: 0.1152 - accuracy: 0.9660 - val_loss: 0.1267 - val_accuracy: 0.9787\n",
      "Epoch 81/100\n",
      "12/12 [==============================] - 0s 8ms/step - loss: 0.1174 - accuracy: 0.9689 - val_loss: 0.1259 - val_accuracy: 0.9787\n",
      "Epoch 82/100\n",
      "12/12 [==============================] - 0s 8ms/step - loss: 0.1016 - accuracy: 0.9772 - val_loss: 0.1252 - val_accuracy: 0.9787\n",
      "Epoch 83/100\n",
      "12/12 [==============================] - 0s 8ms/step - loss: 0.1022 - accuracy: 0.9746 - val_loss: 0.1245 - val_accuracy: 0.9787\n",
      "Epoch 84/100\n",
      "12/12 [==============================] - 0s 8ms/step - loss: 0.1051 - accuracy: 0.9704 - val_loss: 0.1239 - val_accuracy: 0.9787\n",
      "Epoch 85/100\n",
      "12/12 [==============================] - 0s 8ms/step - loss: 0.0954 - accuracy: 0.9759 - val_loss: 0.1232 - val_accuracy: 0.9787\n",
      "Epoch 86/100\n",
      "12/12 [==============================] - 0s 8ms/step - loss: 0.1010 - accuracy: 0.9659 - val_loss: 0.1226 - val_accuracy: 0.9787\n",
      "Epoch 87/100\n",
      "12/12 [==============================] - 0s 8ms/step - loss: 0.0810 - accuracy: 0.9852 - val_loss: 0.1219 - val_accuracy: 0.9787\n",
      "Epoch 88/100\n",
      "12/12 [==============================] - 0s 8ms/step - loss: 0.0985 - accuracy: 0.9756 - val_loss: 0.1213 - val_accuracy: 0.9787\n",
      "Epoch 89/100\n",
      "12/12 [==============================] - 0s 8ms/step - loss: 0.0978 - accuracy: 0.9741 - val_loss: 0.1207 - val_accuracy: 0.9787\n",
      "Epoch 90/100\n",
      "12/12 [==============================] - 0s 7ms/step - loss: 0.1006 - accuracy: 0.9728 - val_loss: 0.1201 - val_accuracy: 0.9787\n",
      "Epoch 91/100\n",
      "12/12 [==============================] - 0s 8ms/step - loss: 0.1038 - accuracy: 0.9696 - val_loss: 0.1196 - val_accuracy: 0.9787\n",
      "Epoch 92/100\n",
      "12/12 [==============================] - 0s 7ms/step - loss: 0.0869 - accuracy: 0.9767 - val_loss: 0.1190 - val_accuracy: 0.9787\n",
      "Epoch 93/100\n",
      "12/12 [==============================] - 0s 7ms/step - loss: 0.1024 - accuracy: 0.9722 - val_loss: 0.1184 - val_accuracy: 0.9787\n",
      "Epoch 94/100\n",
      "12/12 [==============================] - 0s 8ms/step - loss: 0.0968 - accuracy: 0.9748 - val_loss: 0.1179 - val_accuracy: 0.9787\n",
      "Epoch 95/100\n",
      "12/12 [==============================] - 0s 8ms/step - loss: 0.0930 - accuracy: 0.9774 - val_loss: 0.1174 - val_accuracy: 0.9787\n",
      "Epoch 96/100\n",
      "12/12 [==============================] - 0s 8ms/step - loss: 0.1120 - accuracy: 0.9638 - val_loss: 0.1169 - val_accuracy: 0.9787\n",
      "Epoch 97/100\n",
      "12/12 [==============================] - 0s 7ms/step - loss: 0.0851 - accuracy: 0.9789 - val_loss: 0.1164 - val_accuracy: 0.9787\n",
      "Epoch 98/100\n",
      "12/12 [==============================] - 0s 8ms/step - loss: 0.1111 - accuracy: 0.9589 - val_loss: 0.1158 - val_accuracy: 0.9787\n",
      "Epoch 99/100\n",
      "12/12 [==============================] - 0s 8ms/step - loss: 0.0877 - accuracy: 0.9766 - val_loss: 0.1154 - val_accuracy: 0.9787\n",
      "Epoch 100/100\n",
      "12/12 [==============================] - 0s 7ms/step - loss: 0.0854 - accuracy: 0.9821 - val_loss: 0.1149 - val_accuracy: 0.9787\n"
     ]
    }
   ],
   "source": [
    "# Train the model\n",
    "r = model.fit(X_train, y_train, epochs=100, validation_data=(X_test, y_test))"
   ]
  },
  {
   "cell_type": "code",
   "execution_count": 11,
   "metadata": {},
   "outputs": [
    {
     "name": "stdout",
     "output_type": "stream",
     "text": [
      "12/12 [==============================] - 0s 3ms/step - loss: 0.0930 - accuracy: 0.9738\n",
      "Train score: [0.09297528862953186, 0.9737532734870911]\n",
      "6/6 [==============================] - 0s 2ms/step - loss: 0.1149 - accuracy: 0.9787\n",
      "Test score: [0.11490407586097717, 0.978723406791687]\n"
     ]
    }
   ],
   "source": [
    "# evaluate the model\n",
    "print(\"Train score:\", model.evaluate(X_train, y_train))\n",
    "print(\"Test score:\", model.evaluate(X_test, y_test))"
   ]
  },
  {
   "cell_type": "code",
   "execution_count": 12,
   "metadata": {},
   "outputs": [
    {
     "data": {
      "text/plain": [
       "[<matplotlib.lines.Line2D at 0x14d05197a60>]"
      ]
     },
     "execution_count": 12,
     "metadata": {},
     "output_type": "execute_result"
    },
    {
     "data": {
      "image/png": "[encoded data removed]",
      "text/plain": [
       "<Figure size 432x288 with 1 Axes>"
      ]
     },
     "metadata": {
      "needs_background": "light"
     },
     "output_type": "display_data"
    }
   ],
   "source": [
    "# Plot the loss per epoch\n",
    "plt.plot(r.history['loss'], label='train_loss')\n",
    "plt.plot(r.history['val_loss'], label='test_loss')"
   ]
  },
  {
   "cell_type": "code",
   "execution_count": 13,
   "metadata": {},
   "outputs": [
    {
     "data": {
      "text/plain": [
       "[<matplotlib.lines.Line2D at 0x14d052496a0>]"
      ]
     },
     "execution_count": 13,
     "metadata": {},
     "output_type": "execute_result"
    },
    {
     "data": {
      "image/png": "[encoded data removed]",
      "text/plain": [
       "<Figure size 432x288 with 1 Axes>"
      ]
     },
     "metadata": {
      "needs_background": "light"
     },
     "output_type": "display_data"
    }
   ],
   "source": [
    "# Plot the accuracy\n",
    "plt.plot(r.history['accuracy'], label='train_acc')\n",
    "plt.plot(r.history['val_accuracy'], label='test_acc')"
   ]
  },
  {
   "cell_type": "code",
   "execution_count": null,
   "metadata": {},
   "outputs": [],
   "source": []
  }
 ],
 "metadata": {
  "kernelspec": {
   "display_name": "Python 3",
   "language": "python",
   "name": "python3"
  },
  "language_info": {
   "codemirror_mode": {
    "name": "ipython",
    "version": 3
   },
   "file_extension": ".py",
   "mimetype": "text/x-python",
   "name": "python",
   "nbconvert_exporter": "python",
   "pygments_lexer": "ipython3",
   "version": "3.8.5"
  }
 },
 "nbformat": 4,
 "nbformat_minor": 4
}
